{
 "cells": [
  {
   "cell_type": "markdown",
   "metadata": {},
   "source": [
    "## Save all the structures of one iteration ordered by position in one xtc file"
   ]
  },
  {
   "cell_type": "code",
   "execution_count": 1,
   "metadata": {},
   "outputs": [
    {
     "name": "stderr",
     "output_type": "stream",
     "text": [
      "/home/oriol/miniconda3/lib/python3.6/importlib/_bootstrap.py:219: ImportWarning: can't resolve package from __spec__ or __package__, falling back on __name__ and __path__\n",
      "  return f(*args, **kwds)\n",
      "/home/oriol/miniconda3/lib/python3.6/importlib/_bootstrap.py:219: ImportWarning: can't resolve package from __spec__ or __package__, falling back on __name__ and __path__\n",
      "  return f(*args, **kwds)\n"
     ]
    }
   ],
   "source": [
    "import glob\n",
    "import mdtraj as md"
   ]
  },
  {
   "cell_type": "code",
   "execution_count": 5,
   "metadata": {},
   "outputs": [
    {
     "name": "stdout",
     "output_type": "stream",
     "text": [
      "<mdtraj.Trajectory with 108 frames, 14347 atoms, 845 residues, and unitcells>\n"
     ]
    }
   ],
   "source": [
    "simulation = \"1_b3b\"\n",
    "iteration = \"92\"\n",
    "path_to_traj = \"/home/oriol/perdiux/PCNA/it_traj/1_b3b/000092/0*/\"\n",
    "top_file = \"frame2b_Protein_DNA.gro\"\n",
    "traj_list = glob.glob(\"{}seg_whole.xtc\".format(path_to_traj))\n",
    "traj_list.sort()\n",
    "all_traj = md.load(traj_list, top='/home/oriol/calculs/test/WESTPA/gromacs_config/{}'.format(top_file))\n",
    "all_traj = all_traj[1::2] #The .xtc files contain the initial and final structures, but we only want the final frame.\n",
    "all_traj.save_xtc(\"/home/oriol/calculs/test/trajectories/it_traj/traj{}_{}.xtc\".format(simulation,iteration)) \n",
    "print(all_traj)"
   ]
  }
 ],
 "metadata": {
  "kernelspec": {
   "display_name": "Python 3",
   "language": "python",
   "name": "python3"
  },
  "language_info": {
   "codemirror_mode": {
    "name": "ipython",
    "version": 3
   },
   "file_extension": ".py",
   "mimetype": "text/x-python",
   "name": "python",
   "nbconvert_exporter": "python",
   "pygments_lexer": "ipython3",
   "version": "3.6.4"
  }
 },
 "nbformat": 4,
 "nbformat_minor": 2
}

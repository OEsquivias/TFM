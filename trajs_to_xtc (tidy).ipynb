{
 "cells": [
  {
   "cell_type": "markdown",
   "metadata": {},
   "source": [
    "## Save all the structures of one iteration ordered by position in one xtc file"
   ]
  },
  {
   "cell_type": "code",
   "execution_count": 2,
   "metadata": {},
   "outputs": [
    {
     "name": "stderr",
     "output_type": "stream",
     "text": [
      "/home/oriol/miniconda3/lib/python3.6/importlib/_bootstrap.py:219: ImportWarning: can't resolve package from __spec__ or __package__, falling back on __name__ and __path__\n",
      "  return f(*args, **kwds)\n",
      "/home/oriol/miniconda3/lib/python3.6/importlib/_bootstrap.py:219: ImportWarning: can't resolve package from __spec__ or __package__, falling back on __name__ and __path__\n",
      "  return f(*args, **kwds)\n"
     ]
    }
   ],
   "source": [
    "import glob\n",
    "import mdtraj as md"
   ]
  },
  {
   "cell_type": "markdown",
   "metadata": {},
   "source": [
    "[it_traj] Compile the trajectory of each frame of one iteration"
   ]
  },
  {
   "cell_type": "code",
   "execution_count": 2,
   "metadata": {},
   "outputs": [
    {
     "name": "stdout",
     "output_type": "stream",
     "text": [
      "<mdtraj.Trajectory with 108 frames, 14359 atoms, 845 residues, and unitcells>\n"
     ]
    }
   ],
   "source": [
    "simulation = \"1_a3\"\n",
    "iteration = \"76\"\n",
    "path_to_traj = \"/home/oriol/perdiux/PCNA/it_traj/1_a3/000076/0*/\"\n",
    "top_file = \"frame2a_Protein_DNA.gro\"\n",
    "traj_list = glob.glob(\"{}seg_whole.xtc\".format(path_to_traj))\n",
    "traj_list.sort()\n",
    "all_traj = md.load(traj_list, top='/home/oriol/calculs/test/WESTPA/gromacs_config/{}'.format(top_file))\n",
    "all_traj = all_traj[1::2] #The .xtc files contain the initial and final structures, but we only want the final frame.\n",
    "all_traj.save_xtc(\"/home/oriol/calculs/test/trajectories/it_traj/traj{}_{}.xtc\".format(simulation,iteration)) \n",
    "print(all_traj)"
   ]
  },
  {
   "cell_type": "code",
   "execution_count": null,
   "metadata": {},
   "outputs": [],
   "source": [
    "%%bash\n",
    "cat /home/oriol/perdiux/PCNA/it_traj/1_t3b/000227/0*/pcoord.dat |awk '{print ($1\"\\t\"$2);}' > /home/oriol/calculs/test/trajectories/it_traj/pcoords1_t3b_227.dat"
   ]
  },
  {
   "cell_type": "code",
   "execution_count": null,
   "metadata": {},
   "outputs": [],
   "source": []
  },
  {
   "cell_type": "code",
   "execution_count": null,
   "metadata": {},
   "outputs": [],
   "source": []
  },
  {
   "cell_type": "markdown",
   "metadata": {},
   "source": [
    "[trace] Compile the trajectory of one frame and its history"
   ]
  },
  {
   "cell_type": "code",
   "execution_count": 7,
   "metadata": {},
   "outputs": [
    {
     "name": "stdout",
     "output_type": "stream",
     "text": [
      "<mdtraj.Trajectory with 227 frames, 15139 atoms, 897 residues, and unitcells>\n"
     ]
    }
   ],
   "source": [
    "output = \"1_t3b_227_165\"\n",
    "top_file = \"frame2t_Protein_DNA.gro\"\n",
    "traj_list = glob.glob(\"/home/oriol/perdiux/PCNA/trace/all_xtc/0*_0*.xtc\")\n",
    "traj_list.sort()\n",
    "all_traj = md.load(traj_list, top='/home/oriol/calculs/test/WESTPA/gromacs_config/{}'.format(top_file))\n",
    "all_traj = all_traj[1::2]\n",
    "all_traj.save_xtc(\"/home/oriol/calculs/test/trajectories/trace/traj{}.xtc\".format(output)) \n",
    "print(all_traj)"
   ]
  },
  {
   "cell_type": "markdown",
   "metadata": {},
   "source": [
    "Compile values from pcoord.dat files in one file"
   ]
  },
  {
   "cell_type": "code",
   "execution_count": 8,
   "metadata": {},
   "outputs": [],
   "source": [
    "%%bash\n",
    "cat /home/oriol/perdiux/PCNA/trace/all_xtc/pcoord_0*_0*.dat |awk '{print ($1\"\\t\"$2);}' > /home/oriol/calculs/test/trajectories/trace/pcoords1_t3b_227_165.dat"
   ]
  },
  {
   "cell_type": "markdown",
   "metadata": {},
   "source": [
    "Join two trace trajectories"
   ]
  },
  {
   "cell_type": "code",
   "execution_count": 9,
   "metadata": {},
   "outputs": [],
   "source": [
    "top_file = \"frame1t_Protein_DNA.gro\"\n",
    "simulation = \"1_t3b\"\n",
    "iteration = \"227\"\n",
    "first_bin = \"0\"\n",
    "last_bin = \"165\"\n",
    "traj1 = md.load('/home/oriol/calculs/test/trajectories/trace/traj{}_{}_{}.xtc'.format(simulation, iteration, first_bin), top='/home/oriol/calculs/test/WESTPA/gromacs_config/{}'.format(top_file))\n",
    "traj2 = md.load('/home/oriol/calculs/test/trajectories/trace/traj{}_{}_{}.xtc'.format(simulation, iteration, last_bin), top='/home/oriol/calculs/test/WESTPA/gromacs_config/{}'.format(top_file))\n",
    "traj12 = traj1[::-1]+traj2\n",
    "traj12.save_xtc(\"/home/oriol/calculs/test/trajectories/trace/traj{}_{}_all.xtc\".format(simulation,iteration)) "
   ]
  },
  {
   "cell_type": "markdown",
   "metadata": {},
   "source": [
    "Join two pcoord files"
   ]
  },
  {
   "cell_type": "code",
   "execution_count": 10,
   "metadata": {},
   "outputs": [],
   "source": [
    "%%bash\n",
    "cd /home/oriol/calculs/test/trajectories/trace\n",
    "tac pcoords1_t3b_227_0.dat > pcoords1_t3b_227_all.dat\n",
    "cat pcoords1_t3b_227_165.dat >> pcoords1_t3b_227_all.dat"
   ]
  }
 ],
 "metadata": {
  "kernelspec": {
   "display_name": "Python 3",
   "language": "python",
   "name": "python3"
  },
  "language_info": {
   "codemirror_mode": {
    "name": "ipython",
    "version": 3
   },
   "file_extension": ".py",
   "mimetype": "text/x-python",
   "name": "python",
   "nbconvert_exporter": "python",
   "pygments_lexer": "ipython3",
   "version": "3.6.4"
  }
 },
 "nbformat": 4,
 "nbformat_minor": 2
}
